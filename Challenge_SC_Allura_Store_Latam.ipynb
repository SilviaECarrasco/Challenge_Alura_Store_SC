{
  "nbformat": 4,
  "nbformat_minor": 0,
  "metadata": {
    "colab": {
      "provenance": []
    },
    "kernelspec": {
      "name": "python3",
      "display_name": "Python 3"
    },
    "language_info": {
      "name": "python"
    }
  },
  "cells": [
    {
      "cell_type": "markdown",
      "source": [
        "### Importación de datos\n",
        "\n"
      ],
      "metadata": {
        "id": "RhEdWd9YUR6H"
      }
    },
    {
      "cell_type": "code",
      "execution_count": null,
      "metadata": {
        "colab": {
          "base_uri": "https://localhost:8080/",
          "height": 206
        },
        "id": "T3EvaeQ_INIL",
        "outputId": "feae1b44-80d6-493b-f56e-3bd782739233"
      },
      "outputs": [
        {
          "output_type": "execute_result",
          "data": {
            "text/plain": [
              "            Producto Categoría del Producto    Precio  Costo de envío  \\\n",
              "0  Asistente virtual           Electrónicos  164300.0          6900.0   \n",
              "1    Mesa de comedor                Muebles  192300.0          8400.0   \n",
              "2      Juego de mesa               Juguetes  209600.0         15900.0   \n",
              "3         Microondas      Electrodomésticos  757500.0         41000.0   \n",
              "4   Silla de oficina                Muebles  335200.0         20200.0   \n",
              "\n",
              "  Fecha de Compra         Vendedor Lugar de Compra  Calificación  \\\n",
              "0      16/01/2021      Pedro Gomez          Bogotá             4   \n",
              "1      18/05/2022  Beatriz Morales        Medellín             1   \n",
              "2      15/03/2021   Juan Fernandez       Cartagena             1   \n",
              "3      03/05/2022   Juan Fernandez            Cali             4   \n",
              "4      07/11/2020    Maria Alfonso        Medellín             5   \n",
              "\n",
              "       Método de pago  Cantidad de cuotas       lat       lon  \n",
              "0  Tarjeta de crédito                   8   4.60971 -74.08175  \n",
              "1  Tarjeta de crédito                   4   6.25184 -75.56359  \n",
              "2  Tarjeta de crédito                   1  10.39972 -75.51444  \n",
              "3               Nequi                   1   3.43722 -76.52250  \n",
              "4               Nequi                   1   6.25184 -75.56359  "
            ],
            "text/html": [
              "\n",
              "  <div id=\"df-ffcfa750-1e9b-4f85-bdfe-d1ce65015111\" class=\"colab-df-container\">\n",
              "    <div>\n",
              "<style scoped>\n",
              "    .dataframe tbody tr th:only-of-type {\n",
              "        vertical-align: middle;\n",
              "    }\n",
              "\n",
              "    .dataframe tbody tr th {\n",
              "        vertical-align: top;\n",
              "    }\n",
              "\n",
              "    .dataframe thead th {\n",
              "        text-align: right;\n",
              "    }\n",
              "</style>\n",
              "<table border=\"1\" class=\"dataframe\">\n",
              "  <thead>\n",
              "    <tr style=\"text-align: right;\">\n",
              "      <th></th>\n",
              "      <th>Producto</th>\n",
              "      <th>Categoría del Producto</th>\n",
              "      <th>Precio</th>\n",
              "      <th>Costo de envío</th>\n",
              "      <th>Fecha de Compra</th>\n",
              "      <th>Vendedor</th>\n",
              "      <th>Lugar de Compra</th>\n",
              "      <th>Calificación</th>\n",
              "      <th>Método de pago</th>\n",
              "      <th>Cantidad de cuotas</th>\n",
              "      <th>lat</th>\n",
              "      <th>lon</th>\n",
              "    </tr>\n",
              "  </thead>\n",
              "  <tbody>\n",
              "    <tr>\n",
              "      <th>0</th>\n",
              "      <td>Asistente virtual</td>\n",
              "      <td>Electrónicos</td>\n",
              "      <td>164300.0</td>\n",
              "      <td>6900.0</td>\n",
              "      <td>16/01/2021</td>\n",
              "      <td>Pedro Gomez</td>\n",
              "      <td>Bogotá</td>\n",
              "      <td>4</td>\n",
              "      <td>Tarjeta de crédito</td>\n",
              "      <td>8</td>\n",
              "      <td>4.60971</td>\n",
              "      <td>-74.08175</td>\n",
              "    </tr>\n",
              "    <tr>\n",
              "      <th>1</th>\n",
              "      <td>Mesa de comedor</td>\n",
              "      <td>Muebles</td>\n",
              "      <td>192300.0</td>\n",
              "      <td>8400.0</td>\n",
              "      <td>18/05/2022</td>\n",
              "      <td>Beatriz Morales</td>\n",
              "      <td>Medellín</td>\n",
              "      <td>1</td>\n",
              "      <td>Tarjeta de crédito</td>\n",
              "      <td>4</td>\n",
              "      <td>6.25184</td>\n",
              "      <td>-75.56359</td>\n",
              "    </tr>\n",
              "    <tr>\n",
              "      <th>2</th>\n",
              "      <td>Juego de mesa</td>\n",
              "      <td>Juguetes</td>\n",
              "      <td>209600.0</td>\n",
              "      <td>15900.0</td>\n",
              "      <td>15/03/2021</td>\n",
              "      <td>Juan Fernandez</td>\n",
              "      <td>Cartagena</td>\n",
              "      <td>1</td>\n",
              "      <td>Tarjeta de crédito</td>\n",
              "      <td>1</td>\n",
              "      <td>10.39972</td>\n",
              "      <td>-75.51444</td>\n",
              "    </tr>\n",
              "    <tr>\n",
              "      <th>3</th>\n",
              "      <td>Microondas</td>\n",
              "      <td>Electrodomésticos</td>\n",
              "      <td>757500.0</td>\n",
              "      <td>41000.0</td>\n",
              "      <td>03/05/2022</td>\n",
              "      <td>Juan Fernandez</td>\n",
              "      <td>Cali</td>\n",
              "      <td>4</td>\n",
              "      <td>Nequi</td>\n",
              "      <td>1</td>\n",
              "      <td>3.43722</td>\n",
              "      <td>-76.52250</td>\n",
              "    </tr>\n",
              "    <tr>\n",
              "      <th>4</th>\n",
              "      <td>Silla de oficina</td>\n",
              "      <td>Muebles</td>\n",
              "      <td>335200.0</td>\n",
              "      <td>20200.0</td>\n",
              "      <td>07/11/2020</td>\n",
              "      <td>Maria Alfonso</td>\n",
              "      <td>Medellín</td>\n",
              "      <td>5</td>\n",
              "      <td>Nequi</td>\n",
              "      <td>1</td>\n",
              "      <td>6.25184</td>\n",
              "      <td>-75.56359</td>\n",
              "    </tr>\n",
              "  </tbody>\n",
              "</table>\n",
              "</div>\n",
              "    <div class=\"colab-df-buttons\">\n",
              "\n",
              "  <div class=\"colab-df-container\">\n",
              "    <button class=\"colab-df-convert\" onclick=\"convertToInteractive('df-ffcfa750-1e9b-4f85-bdfe-d1ce65015111')\"\n",
              "            title=\"Convert this dataframe to an interactive table.\"\n",
              "            style=\"display:none;\">\n",
              "\n",
              "  <svg xmlns=\"http://www.w3.org/2000/svg\" height=\"24px\" viewBox=\"0 -960 960 960\">\n",
              "    <path d=\"M120-120v-720h720v720H120Zm60-500h600v-160H180v160Zm220 220h160v-160H400v160Zm0 220h160v-160H400v160ZM180-400h160v-160H180v160Zm440 0h160v-160H620v160ZM180-180h160v-160H180v160Zm440 0h160v-160H620v160Z\"/>\n",
              "  </svg>\n",
              "    </button>\n",
              "\n",
              "  <style>\n",
              "    .colab-df-container {\n",
              "      display:flex;\n",
              "      gap: 12px;\n",
              "    }\n",
              "\n",
              "    .colab-df-convert {\n",
              "      background-color: #E8F0FE;\n",
              "      border: none;\n",
              "      border-radius: 50%;\n",
              "      cursor: pointer;\n",
              "      display: none;\n",
              "      fill: #1967D2;\n",
              "      height: 32px;\n",
              "      padding: 0 0 0 0;\n",
              "      width: 32px;\n",
              "    }\n",
              "\n",
              "    .colab-df-convert:hover {\n",
              "      background-color: #E2EBFA;\n",
              "      box-shadow: 0px 1px 2px rgba(60, 64, 67, 0.3), 0px 1px 3px 1px rgba(60, 64, 67, 0.15);\n",
              "      fill: #174EA6;\n",
              "    }\n",
              "\n",
              "    .colab-df-buttons div {\n",
              "      margin-bottom: 4px;\n",
              "    }\n",
              "\n",
              "    [theme=dark] .colab-df-convert {\n",
              "      background-color: #3B4455;\n",
              "      fill: #D2E3FC;\n",
              "    }\n",
              "\n",
              "    [theme=dark] .colab-df-convert:hover {\n",
              "      background-color: #434B5C;\n",
              "      box-shadow: 0px 1px 3px 1px rgba(0, 0, 0, 0.15);\n",
              "      filter: drop-shadow(0px 1px 2px rgba(0, 0, 0, 0.3));\n",
              "      fill: #FFFFFF;\n",
              "    }\n",
              "  </style>\n",
              "\n",
              "    <script>\n",
              "      const buttonEl =\n",
              "        document.querySelector('#df-ffcfa750-1e9b-4f85-bdfe-d1ce65015111 button.colab-df-convert');\n",
              "      buttonEl.style.display =\n",
              "        google.colab.kernel.accessAllowed ? 'block' : 'none';\n",
              "\n",
              "      async function convertToInteractive(key) {\n",
              "        const element = document.querySelector('#df-ffcfa750-1e9b-4f85-bdfe-d1ce65015111');\n",
              "        const dataTable =\n",
              "          await google.colab.kernel.invokeFunction('convertToInteractive',\n",
              "                                                    [key], {});\n",
              "        if (!dataTable) return;\n",
              "\n",
              "        const docLinkHtml = 'Like what you see? Visit the ' +\n",
              "          '<a target=\"_blank\" href=https://colab.research.google.com/notebooks/data_table.ipynb>data table notebook</a>'\n",
              "          + ' to learn more about interactive tables.';\n",
              "        element.innerHTML = '';\n",
              "        dataTable['output_type'] = 'display_data';\n",
              "        await google.colab.output.renderOutput(dataTable, element);\n",
              "        const docLink = document.createElement('div');\n",
              "        docLink.innerHTML = docLinkHtml;\n",
              "        element.appendChild(docLink);\n",
              "      }\n",
              "    </script>\n",
              "  </div>\n",
              "\n",
              "\n",
              "    <div id=\"df-64581edc-6401-467d-98a1-8ca9fc4d27f8\">\n",
              "      <button class=\"colab-df-quickchart\" onclick=\"quickchart('df-64581edc-6401-467d-98a1-8ca9fc4d27f8')\"\n",
              "                title=\"Suggest charts\"\n",
              "                style=\"display:none;\">\n",
              "\n",
              "<svg xmlns=\"http://www.w3.org/2000/svg\" height=\"24px\"viewBox=\"0 0 24 24\"\n",
              "     width=\"24px\">\n",
              "    <g>\n",
              "        <path d=\"M19 3H5c-1.1 0-2 .9-2 2v14c0 1.1.9 2 2 2h14c1.1 0 2-.9 2-2V5c0-1.1-.9-2-2-2zM9 17H7v-7h2v7zm4 0h-2V7h2v10zm4 0h-2v-4h2v4z\"/>\n",
              "    </g>\n",
              "</svg>\n",
              "      </button>\n",
              "\n",
              "<style>\n",
              "  .colab-df-quickchart {\n",
              "      --bg-color: #E8F0FE;\n",
              "      --fill-color: #1967D2;\n",
              "      --hover-bg-color: #E2EBFA;\n",
              "      --hover-fill-color: #174EA6;\n",
              "      --disabled-fill-color: #AAA;\n",
              "      --disabled-bg-color: #DDD;\n",
              "  }\n",
              "\n",
              "  [theme=dark] .colab-df-quickchart {\n",
              "      --bg-color: #3B4455;\n",
              "      --fill-color: #D2E3FC;\n",
              "      --hover-bg-color: #434B5C;\n",
              "      --hover-fill-color: #FFFFFF;\n",
              "      --disabled-bg-color: #3B4455;\n",
              "      --disabled-fill-color: #666;\n",
              "  }\n",
              "\n",
              "  .colab-df-quickchart {\n",
              "    background-color: var(--bg-color);\n",
              "    border: none;\n",
              "    border-radius: 50%;\n",
              "    cursor: pointer;\n",
              "    display: none;\n",
              "    fill: var(--fill-color);\n",
              "    height: 32px;\n",
              "    padding: 0;\n",
              "    width: 32px;\n",
              "  }\n",
              "\n",
              "  .colab-df-quickchart:hover {\n",
              "    background-color: var(--hover-bg-color);\n",
              "    box-shadow: 0 1px 2px rgba(60, 64, 67, 0.3), 0 1px 3px 1px rgba(60, 64, 67, 0.15);\n",
              "    fill: var(--button-hover-fill-color);\n",
              "  }\n",
              "\n",
              "  .colab-df-quickchart-complete:disabled,\n",
              "  .colab-df-quickchart-complete:disabled:hover {\n",
              "    background-color: var(--disabled-bg-color);\n",
              "    fill: var(--disabled-fill-color);\n",
              "    box-shadow: none;\n",
              "  }\n",
              "\n",
              "  .colab-df-spinner {\n",
              "    border: 2px solid var(--fill-color);\n",
              "    border-color: transparent;\n",
              "    border-bottom-color: var(--fill-color);\n",
              "    animation:\n",
              "      spin 1s steps(1) infinite;\n",
              "  }\n",
              "\n",
              "  @keyframes spin {\n",
              "    0% {\n",
              "      border-color: transparent;\n",
              "      border-bottom-color: var(--fill-color);\n",
              "      border-left-color: var(--fill-color);\n",
              "    }\n",
              "    20% {\n",
              "      border-color: transparent;\n",
              "      border-left-color: var(--fill-color);\n",
              "      border-top-color: var(--fill-color);\n",
              "    }\n",
              "    30% {\n",
              "      border-color: transparent;\n",
              "      border-left-color: var(--fill-color);\n",
              "      border-top-color: var(--fill-color);\n",
              "      border-right-color: var(--fill-color);\n",
              "    }\n",
              "    40% {\n",
              "      border-color: transparent;\n",
              "      border-right-color: var(--fill-color);\n",
              "      border-top-color: var(--fill-color);\n",
              "    }\n",
              "    60% {\n",
              "      border-color: transparent;\n",
              "      border-right-color: var(--fill-color);\n",
              "    }\n",
              "    80% {\n",
              "      border-color: transparent;\n",
              "      border-right-color: var(--fill-color);\n",
              "      border-bottom-color: var(--fill-color);\n",
              "    }\n",
              "    90% {\n",
              "      border-color: transparent;\n",
              "      border-bottom-color: var(--fill-color);\n",
              "    }\n",
              "  }\n",
              "</style>\n",
              "\n",
              "      <script>\n",
              "        async function quickchart(key) {\n",
              "          const quickchartButtonEl =\n",
              "            document.querySelector('#' + key + ' button');\n",
              "          quickchartButtonEl.disabled = true;  // To prevent multiple clicks.\n",
              "          quickchartButtonEl.classList.add('colab-df-spinner');\n",
              "          try {\n",
              "            const charts = await google.colab.kernel.invokeFunction(\n",
              "                'suggestCharts', [key], {});\n",
              "          } catch (error) {\n",
              "            console.error('Error during call to suggestCharts:', error);\n",
              "          }\n",
              "          quickchartButtonEl.classList.remove('colab-df-spinner');\n",
              "          quickchartButtonEl.classList.add('colab-df-quickchart-complete');\n",
              "        }\n",
              "        (() => {\n",
              "          let quickchartButtonEl =\n",
              "            document.querySelector('#df-64581edc-6401-467d-98a1-8ca9fc4d27f8 button');\n",
              "          quickchartButtonEl.style.display =\n",
              "            google.colab.kernel.accessAllowed ? 'block' : 'none';\n",
              "        })();\n",
              "      </script>\n",
              "    </div>\n",
              "\n",
              "    </div>\n",
              "  </div>\n"
            ],
            "application/vnd.google.colaboratory.intrinsic+json": {
              "type": "dataframe",
              "variable_name": "tienda",
              "summary": "{\n  \"name\": \"tienda\",\n  \"rows\": 2359,\n  \"fields\": [\n    {\n      \"column\": \"Producto\",\n      \"properties\": {\n        \"dtype\": \"category\",\n        \"num_unique_values\": 51,\n        \"samples\": [\n          \"Guitarra ac\\u00fastica\",\n          \"Bal\\u00f3n de baloncesto\",\n          \"Smartwatch\"\n        ],\n        \"semantic_type\": \"\",\n        \"description\": \"\"\n      }\n    },\n    {\n      \"column\": \"Categor\\u00eda del Producto\",\n      \"properties\": {\n        \"dtype\": \"category\",\n        \"num_unique_values\": 8,\n        \"samples\": [\n          \"Muebles\",\n          \"Deportes y diversi\\u00f3n\",\n          \"Electr\\u00f3nicos\"\n        ],\n        \"semantic_type\": \"\",\n        \"description\": \"\"\n      }\n    },\n    {\n      \"column\": \"Precio\",\n      \"properties\": {\n        \"dtype\": \"number\",\n        \"std\": 614686.7653873172,\n        \"min\": 7600.0,\n        \"max\": 2977000.0,\n        \"num_unique_values\": 1937,\n        \"samples\": [\n          2499400.0,\n          14800.0,\n          80500.0\n        ],\n        \"semantic_type\": \"\",\n        \"description\": \"\"\n      }\n    },\n    {\n      \"column\": \"Costo de env\\u00edo\",\n      \"properties\": {\n        \"dtype\": \"number\",\n        \"std\": 32860.0017825605,\n        \"min\": 0.0,\n        \"max\": 160800.0,\n        \"num_unique_values\": 753,\n        \"samples\": [\n          117800.0,\n          54700.0,\n          45600.0\n        ],\n        \"semantic_type\": \"\",\n        \"description\": \"\"\n      }\n    },\n    {\n      \"column\": \"Fecha de Compra\",\n      \"properties\": {\n        \"dtype\": \"object\",\n        \"num_unique_values\": 1018,\n        \"samples\": [\n          \"15/09/2022\",\n          \"03/06/2020\",\n          \"06/11/2021\"\n        ],\n        \"semantic_type\": \"\",\n        \"description\": \"\"\n      }\n    },\n    {\n      \"column\": \"Vendedor\",\n      \"properties\": {\n        \"dtype\": \"category\",\n        \"num_unique_values\": 14,\n        \"samples\": [\n          \"Juliana Costa\",\n          \"Mariana Herrera\",\n          \"Pedro Gomez\"\n        ],\n        \"semantic_type\": \"\",\n        \"description\": \"\"\n      }\n    },\n    {\n      \"column\": \"Lugar de Compra\",\n      \"properties\": {\n        \"dtype\": \"category\",\n        \"num_unique_values\": 19,\n        \"samples\": [\n          \"Bogot\\u00e1\",\n          \"Pereira\",\n          \"Neiva\"\n        ],\n        \"semantic_type\": \"\",\n        \"description\": \"\"\n      }\n    },\n    {\n      \"column\": \"Calificaci\\u00f3n\",\n      \"properties\": {\n        \"dtype\": \"number\",\n        \"std\": 1,\n        \"min\": 1,\n        \"max\": 5,\n        \"num_unique_values\": 5,\n        \"samples\": [\n          1,\n          2,\n          5\n        ],\n        \"semantic_type\": \"\",\n        \"description\": \"\"\n      }\n    },\n    {\n      \"column\": \"M\\u00e9todo de pago\",\n      \"properties\": {\n        \"dtype\": \"category\",\n        \"num_unique_values\": 4,\n        \"samples\": [\n          \"Nequi\",\n          \"Tarjeta de d\\u00e9bito\",\n          \"Tarjeta de cr\\u00e9dito\"\n        ],\n        \"semantic_type\": \"\",\n        \"description\": \"\"\n      }\n    },\n    {\n      \"column\": \"Cantidad de cuotas\",\n      \"properties\": {\n        \"dtype\": \"number\",\n        \"std\": 2,\n        \"min\": 1,\n        \"max\": 24,\n        \"num_unique_values\": 15,\n        \"samples\": [\n          7,\n          14,\n          8\n        ],\n        \"semantic_type\": \"\",\n        \"description\": \"\"\n      }\n    },\n    {\n      \"column\": \"lat\",\n      \"properties\": {\n        \"dtype\": \"number\",\n        \"std\": 2.2874452492678627,\n        \"min\": -4.21528,\n        \"max\": 11.54444,\n        \"num_unique_values\": 19,\n        \"samples\": [\n          4.60971,\n          4.81333,\n          2.9273\n        ],\n        \"semantic_type\": \"\",\n        \"description\": \"\"\n      }\n    },\n    {\n      \"column\": \"lon\",\n      \"properties\": {\n        \"dtype\": \"number\",\n        \"std\": 1.2178272727088486,\n        \"min\": -77.28111,\n        \"max\": -67.9239,\n        \"num_unique_values\": 19,\n        \"samples\": [\n          -74.08175,\n          -75.69611,\n          -75.28189\n        ],\n        \"semantic_type\": \"\",\n        \"description\": \"\"\n      }\n    }\n  ]\n}"
            }
          },
          "metadata": {},
          "execution_count": 10
        }
      ],
      "source": [
        "import pandas as pd\n",
        "\n",
        "url = \"https://raw.githubusercontent.com/alura-es-cursos/challenge1-data-science-latam/refs/heads/main/base-de-datos-challenge1-latam/tienda_1%20.csv\"\n",
        "url2 = \"https://raw.githubusercontent.com/alura-es-cursos/challenge1-data-science-latam/refs/heads/main/base-de-datos-challenge1-latam/tienda_2.csv\"\n",
        "url3 = \"https://raw.githubusercontent.com/alura-es-cursos/challenge1-data-science-latam/refs/heads/main/base-de-datos-challenge1-latam/tienda_3.csv\"\n",
        "url4 = \"https://raw.githubusercontent.com/alura-es-cursos/challenge1-data-science-latam/refs/heads/main/base-de-datos-challenge1-latam/tienda_4.csv\"\n",
        "\n",
        "tienda = pd.read_csv(url)\n",
        "tienda2 = pd.read_csv(url2)\n",
        "tienda3 = pd.read_csv(url3)\n",
        "tienda4 = pd.read_csv(url4)\n",
        "\n",
        "tienda.head()"
      ]
    },
    {
      "cell_type": "markdown",
      "source": [
        "#1. Análisis de facturación\n",
        "\n"
      ],
      "metadata": {
        "id": "X62IW3KFUIYm"
      }
    },
    {
      "cell_type": "code",
      "source": [
        "# Ingresos por tienda\n",
        "\n",
        "ingreso_tienda_1 = tienda[\"Precio\"].sum()\n",
        "ingreso_tienda_2 = tienda2[\"Precio\"].sum()\n",
        "ingreso_tienda_3 = tienda3[\"Precio\"].sum()\n",
        "ingreso_tienda_4 = tienda4[\"Precio\"].sum()\n",
        "\n",
        "# Mostrar los ingresos\n",
        "print(f\"Ingreso total Tienda 1: ${ingreso_tienda_1:,.0f}\")\n",
        "print(f\"Ingreso total Tienda 2: ${ingreso_tienda_2:,.0f}\")\n",
        "print(f\"Ingreso total Tienda 3: ${ingreso_tienda_3:,.0f}\")\n",
        "print(f\"Ingreso total Tienda 4: ${ingreso_tienda_4:,.0f}\")"
      ],
      "metadata": {
        "id": "xykobSftV64I",
        "colab": {
          "base_uri": "https://localhost:8080/"
        },
        "outputId": "c7831aa4-1ca4-45c3-a2a8-ebf06e634f38"
      },
      "execution_count": null,
      "outputs": [
        {
          "output_type": "stream",
          "name": "stdout",
          "text": [
            "Ingreso total Tienda 1: $1,150,880,400\n",
            "Ingreso total Tienda 2: $1,116,343,500\n",
            "Ingreso total Tienda 3: $1,098,019,600\n",
            "Ingreso total Tienda 4: $1,038,375,700\n"
          ]
        }
      ]
    },
    {
      "cell_type": "code",
      "source": [
        "ingreso_total_tiendas = ingreso_tienda_1 + ingreso_tienda_2 + ingreso_tienda_3 + ingreso_tienda_4\n",
        "print(f\"Ingreso total de todas las tiendas: ${ingreso_total_tiendas:,.0f}\")"
      ],
      "metadata": {
        "id": "KDyr8E71V3m-",
        "colab": {
          "base_uri": "https://localhost:8080/"
        },
        "outputId": "872eaa9f-d42f-4658-cafa-ccd3e5af0890"
      },
      "execution_count": null,
      "outputs": [
        {
          "output_type": "stream",
          "name": "stdout",
          "text": [
            "Ingreso total de todas las tiendas: $4,403,619,200\n"
          ]
        }
      ]
    },
    {
      "cell_type": "markdown",
      "source": [
        "# 2. Ventas por categoría"
      ],
      "metadata": {
        "id": "2V_vcAPzWZmR"
      }
    },
    {
      "cell_type": "code",
      "source": [
        "# Cantidad de productos vendidos por categoría\n",
        "print(\"Tienda 1 - Categoría del Producto:\")\n",
        "print(tienda[\"Categoría del Producto\"].value_counts(), \"\\n\")\n",
        "\n",
        "\n",
        "print(\"Tienda 2 - Categoría del Producto:\")\n",
        "print(tienda2[\"Categoría del Producto\"].value_counts(), \"\\n\")\n",
        "\n",
        "\n",
        "print(\"Tienda 3 - Categoría del Producto:\")\n",
        "print(tienda3[\"Categoría del Producto\"].value_counts(), \"\\n\")\n",
        "\n",
        "\n",
        "print(\"Tienda 4 - Categoría del Producto:\")\n",
        "print(tienda4[\"Categoría del Producto\"].value_counts(), \"\\n\")\n"
      ],
      "metadata": {
        "id": "A34YupIuYhfF",
        "colab": {
          "base_uri": "https://localhost:8080/"
        },
        "outputId": "70ce181a-a51b-47cd-e462-3f078ff6b803"
      },
      "execution_count": null,
      "outputs": [
        {
          "output_type": "stream",
          "name": "stdout",
          "text": [
            "Tienda 1 - Categoría del Producto:\n",
            "Categoría del Producto\n",
            "Muebles                    465\n",
            "Electrónicos               448\n",
            "Juguetes                   324\n",
            "Electrodomésticos          312\n",
            "Deportes y diversión       284\n",
            "Instrumentos musicales     182\n",
            "Libros                     173\n",
            "Artículos para el hogar    171\n",
            "Name: count, dtype: int64 \n",
            "\n",
            "Tienda 2 - Categoría del Producto:\n",
            "Categoría del Producto\n",
            "Muebles                    442\n",
            "Electrónicos               422\n",
            "Juguetes                   313\n",
            "Electrodomésticos          305\n",
            "Deportes y diversión       275\n",
            "Instrumentos musicales     224\n",
            "Libros                     197\n",
            "Artículos para el hogar    181\n",
            "Name: count, dtype: int64 \n",
            "\n",
            "Tienda 3 - Categoría del Producto:\n",
            "Categoría del Producto\n",
            "Muebles                    499\n",
            "Electrónicos               451\n",
            "Juguetes                   315\n",
            "Electrodomésticos          278\n",
            "Deportes y diversión       277\n",
            "Libros                     185\n",
            "Instrumentos musicales     177\n",
            "Artículos para el hogar    177\n",
            "Name: count, dtype: int64 \n",
            "\n",
            "Tienda 4 - Categoría del Producto:\n",
            "Categoría del Producto\n",
            "Muebles                    480\n",
            "Electrónicos               451\n",
            "Juguetes                   338\n",
            "Deportes y diversión       277\n",
            "Electrodomésticos          254\n",
            "Artículos para el hogar    201\n",
            "Libros                     187\n",
            "Instrumentos musicales     170\n",
            "Name: count, dtype: int64 \n",
            "\n"
          ]
        }
      ]
    },
    {
      "cell_type": "code",
      "source": [
        "# Mostrar las 3 categorías más vendidas en cada tienda\n",
        "\n",
        "print(\"Tienda 1 - Top 3 categorías:\")\n",
        "print(tienda[\"Categoría del Producto\"].value_counts().head(3), \"\\n\")\n",
        "\n",
        "print(\"Tienda 2 - Top 3 categorías:\")\n",
        "print(tienda2[\"Categoría del Producto\"].value_counts().head(3), \"\\n\")\n",
        "\n",
        "print(\"Tienda 3 - Top 3 categorías:\")\n",
        "print(tienda3[\"Categoría del Producto\"].value_counts().head(3), \"\\n\")\n",
        "\n",
        "print(\"Tienda 4 - Top 3 categorías:\")\n",
        "print(tienda4[\"Categoría del Producto\"].value_counts().head(3), \"\\n\")\n"
      ],
      "metadata": {
        "id": "yZR6cOjXYSk1",
        "colab": {
          "base_uri": "https://localhost:8080/"
        },
        "outputId": "a5e8a74c-3173-46d2-f2cc-31c8f3b35616"
      },
      "execution_count": null,
      "outputs": [
        {
          "output_type": "stream",
          "name": "stdout",
          "text": [
            "Tienda 1 - Top 3 categorías:\n",
            "Categoría del Producto\n",
            "Muebles         465\n",
            "Electrónicos    448\n",
            "Juguetes        324\n",
            "Name: count, dtype: int64 \n",
            "\n",
            "Tienda 2 - Top 3 categorías:\n",
            "Categoría del Producto\n",
            "Muebles         442\n",
            "Electrónicos    422\n",
            "Juguetes        313\n",
            "Name: count, dtype: int64 \n",
            "\n",
            "Tienda 3 - Top 3 categorías:\n",
            "Categoría del Producto\n",
            "Muebles         499\n",
            "Electrónicos    451\n",
            "Juguetes        315\n",
            "Name: count, dtype: int64 \n",
            "\n",
            "Tienda 4 - Top 3 categorías:\n",
            "Categoría del Producto\n",
            "Muebles         480\n",
            "Electrónicos    451\n",
            "Juguetes        338\n",
            "Name: count, dtype: int64 \n",
            "\n"
          ]
        }
      ]
    },
    {
      "cell_type": "markdown",
      "source": [
        "# 3. Calificación promedio de la tienda\n"
      ],
      "metadata": {
        "id": "Rq6tU_xSY3jk"
      }
    },
    {
      "cell_type": "code",
      "source": [
        "promedio_1 = tienda[\"Calificación\"].mean()\n",
        "promedio_2 = tienda2[\"Calificación\"].mean()\n",
        "promedio_3 = tienda3[\"Calificación\"].mean()\n",
        "promedio_4 = tienda4[\"Calificación\"].mean()\n",
        "\n",
        "print(f\"Calificación promedio de la tienda 1: {promedio_1:.1f}\")\n",
        "print(f\"Calificación promedio de la tienda 2: {promedio_1:.1f}\")\n",
        "print(f\"Calificación promedio de la tienda 3: {promedio_1:.1f}\")\n",
        "print(f\"Calificación promedio de la tienda 4: {promedio_1:.1f}\")"
      ],
      "metadata": {
        "id": "bh3jjjJwY5MU",
        "colab": {
          "base_uri": "https://localhost:8080/"
        },
        "outputId": "c76a7b4f-13e8-4919-a984-678dbbac2e6f"
      },
      "execution_count": null,
      "outputs": [
        {
          "output_type": "stream",
          "name": "stdout",
          "text": [
            "Calificación promedio de la tienda 1: 4.0\n",
            "Calificación promedio de la tienda 2: 4.0\n",
            "Calificación promedio de la tienda 3: 4.0\n",
            "Calificación promedio de la tienda 4: 4.0\n"
          ]
        }
      ]
    },
    {
      "cell_type": "code",
      "source": [],
      "metadata": {
        "id": "I0KkjPoTY88F"
      },
      "execution_count": null,
      "outputs": []
    },
    {
      "cell_type": "markdown",
      "source": [
        "# 4. Productos más y menos vendidos"
      ],
      "metadata": {
        "id": "DmNp1KPBZCm-"
      }
    },
    {
      "cell_type": "code",
      "source": [
        "# Función para mostrar el más y menos vendido\n",
        "def mostrar_mas_menos_vendido(tienda_df, nombre_tienda):\n",
        "    ventas_por_producto = tienda_df[\"Producto\"].value_counts()\n",
        "    mas_vendido = ventas_por_producto.idxmax()\n",
        "    menos_vendido = ventas_por_producto.idxmin()\n",
        "    print(f\"{nombre_tienda}\")\n",
        "    print(f\"Producto más vendido: {mas_vendido} ({ventas_por_producto.max()} ventas)\")\n",
        "    print(f\"Producto menos vendido: {menos_vendido} ({ventas_por_producto.min()} ventas)\\n\")\n",
        "\n",
        "# Aplicar a cada tienda\n",
        "mostrar_mas_menos_vendido(tienda, \"Tienda 1\")\n",
        "mostrar_mas_menos_vendido(tienda2, \"Tienda 2\")\n",
        "mostrar_mas_menos_vendido(tienda3, \"Tienda 3\")\n",
        "mostrar_mas_menos_vendido(tienda4, \"Tienda 4\")\n"
      ],
      "metadata": {
        "id": "qoyjqijQZHfF",
        "colab": {
          "base_uri": "https://localhost:8080/"
        },
        "outputId": "2ffa4ecb-fd08-43f3-9351-5629f8a031c7"
      },
      "execution_count": null,
      "outputs": [
        {
          "output_type": "stream",
          "name": "stdout",
          "text": [
            "Tienda 1\n",
            "Producto más vendido: Microondas (60 ventas)\n",
            "Producto menos vendido: Auriculares con micrófono (33 ventas)\n",
            "\n",
            "Tienda 2\n",
            "Producto más vendido: Iniciando en programación (65 ventas)\n",
            "Producto menos vendido: Juego de mesa (32 ventas)\n",
            "\n",
            "Tienda 3\n",
            "Producto más vendido: Kit de bancas (57 ventas)\n",
            "Producto menos vendido: Bloques de construcción (35 ventas)\n",
            "\n",
            "Tienda 4\n",
            "Producto más vendido: Cama box (62 ventas)\n",
            "Producto menos vendido: Guitarra eléctrica (33 ventas)\n",
            "\n"
          ]
        }
      ]
    },
    {
      "cell_type": "code",
      "source": [],
      "metadata": {
        "id": "0Sw3sd4IZIGW"
      },
      "execution_count": null,
      "outputs": []
    },
    {
      "cell_type": "markdown",
      "source": [
        "# 5. Envío promedio por tienda"
      ],
      "metadata": {
        "id": "Fl0cGi3bZKqU"
      }
    },
    {
      "cell_type": "code",
      "source": [
        "# Calcular costo de envío promedio por tienda\n",
        "\n",
        "prom_envio_1 = tienda[\"Costo de envío\"].mean()\n",
        "prom_envio_2 = tienda2[\"Costo de envío\"].mean()\n",
        "prom_envio_3 = tienda3[\"Costo de envío\"].mean()\n",
        "prom_envio_4 = tienda4[\"Costo de envío\"].mean()\n",
        "\n",
        "# Mostrar resultados sin decimales\n",
        "print(f\"Tienda 1 - Costo de envío promedio: ${prom_envio_1:,.0f}\")\n",
        "print(f\"Tienda 2 - Costo de envío promedio: ${prom_envio_2:,.0f}\")\n",
        "print(f\"Tienda 3 - Costo de envío promedio: ${prom_envio_3:,.0f}\")\n",
        "print(f\"Tienda 4 - Costo de envío promedio: ${prom_envio_4:,.0f}\")\n"
      ],
      "metadata": {
        "id": "S2JeaCykZNy9",
        "colab": {
          "base_uri": "https://localhost:8080/"
        },
        "outputId": "2215e3d9-473b-46ef-cc37-d8b511ca54c2"
      },
      "execution_count": null,
      "outputs": [
        {
          "output_type": "stream",
          "name": "stdout",
          "text": [
            "Tienda 1 - Costo de envío promedio: $26,019\n",
            "Tienda 2 - Costo de envío promedio: $25,216\n",
            "Tienda 3 - Costo de envío promedio: $24,806\n",
            "Tienda 4 - Costo de envío promedio: $23,459\n"
          ]
        }
      ]
    },
    {
      "cell_type": "code",
      "source": [
        "# Calcular costo total de envío por tienda\n",
        "\n",
        "total_envio_1 = tienda[\"Costo de envío\"].sum()\n",
        "total_envio_2 = tienda2[\"Costo de envío\"].sum()\n",
        "total_envio_3 = tienda3[\"Costo de envío\"].sum()\n",
        "total_envio_4 = tienda4[\"Costo de envío\"].sum()\n",
        "\n",
        "# Mostrar resultados sin decimales\n",
        "print(f\"Tienda 1 - Costo total de envío: ${total_envio_1:,.0f}\")\n",
        "print(f\"Tienda 2 - Costo total de envío: ${total_envio_2:,.0f}\")\n",
        "print(f\"Tienda 3 - Costo total de envío: ${total_envio_3:,.0f}\")\n",
        "print(f\"Tienda 4 - Costo total de envío: ${total_envio_4:,.0f}\")\n"
      ],
      "metadata": {
        "id": "0tSdCie9ZQlt",
        "colab": {
          "base_uri": "https://localhost:8080/"
        },
        "outputId": "32b198d8-8de4-4e9c-a3c8-cb35e262c709"
      },
      "execution_count": null,
      "outputs": [
        {
          "output_type": "stream",
          "name": "stdout",
          "text": [
            "Tienda 1 - Costo total de envío: $61,377,900\n",
            "Tienda 2 - Costo total de envío: $59,485,100\n",
            "Tienda 3 - Costo total de envío: $58,516,600\n",
            "Tienda 4 - Costo total de envío: $55,317,400\n"
          ]
        }
      ]
    },
    {
      "cell_type": "code",
      "source": [],
      "metadata": {
        "id": "PwFHwN4obP-n"
      },
      "execution_count": null,
      "outputs": []
    },
    {
      "cell_type": "markdown",
      "source": [
        "GRAFICOS"
      ],
      "metadata": {
        "id": "Pzb0-6FpcJ8k"
      }
    },
    {
      "cell_type": "code",
      "source": [
        "import matplotlib.pyplot as plt\n",
        "\n",
        "# Ingresos por tienda\n",
        "ingresos = [ingreso_tienda_1, ingreso_tienda_2, ingreso_tienda_3, ingreso_tienda_4]\n",
        "tiendas = ['Tienda 1', 'Tienda 2', 'Tienda 3', 'Tienda 4']\n",
        "\n",
        "# Crear el gráfico de columnas\n",
        "plt.figure(figsize=(8, 5))\n",
        "barras = plt.bar(tiendas, ingresos, color='skyblue')\n",
        "\n",
        "# Agregar los valores encima de cada barra\n",
        "for barra in barras:\n",
        "    altura = barra.get_height()\n",
        "    plt.text(barra.get_x() + barra.get_width()/2, altura + 5000, f\"${altura:,.0f}\", ha='center', va='bottom')\n",
        "\n",
        "# Títulos y etiquetas\n",
        "plt.title(\"Ingreso total por tienda\")\n",
        "plt.ylabel(\"Ingresos en pesos\")\n",
        "plt.xlabel(\"Tienda\")\n",
        "plt.tight_layout()\n",
        "plt.grid(axis='y', linestyle='--', alpha=0.3)\n",
        "\n",
        "# Mostrar el gráfico\n",
        "plt.show()\n"
      ],
      "metadata": {
        "colab": {
          "base_uri": "https://localhost:8080/",
          "height": 580
        },
        "id": "XtUaBCg0cMAW",
        "outputId": "2b6540ff-7f2e-4f45-b911-ed8259571d41"
      },
      "execution_count": null,
      "outputs": [
        {
          "output_type": "stream",
          "name": "stderr",
          "text": [
            "<ipython-input-29-78e61a45348f>:20: UserWarning: Glyph 128176 (\\N{MONEY BAG}) missing from font(s) DejaVu Sans.\n",
            "  plt.tight_layout()\n",
            "/usr/local/lib/python3.11/dist-packages/IPython/core/pylabtools.py:151: UserWarning: Glyph 128176 (\\N{MONEY BAG}) missing from font(s) DejaVu Sans.\n",
            "  fig.canvas.print_figure(bytes_io, **kw)\n"
          ]
        },
        {
          "output_type": "display_data",
          "data": {
            "text/plain": [
              "<Figure size 800x500 with 1 Axes>"
            ],
            "image/png": "[encoded data removed]"
          },
          "metadata": {}
        }
      ]
    },
    {
      "cell_type": "code",
      "source": [
        "import matplotlib.pyplot as plt\n",
        "\n",
        "# Datos\n",
        "tiendas = ['Tienda 1', 'Tienda 2', 'Tienda 3', 'Tienda 4']\n",
        "promedios_envio = [prom_envio_1, prom_envio_2, prom_envio_3, prom_envio_4]\n",
        "\n",
        "# Crear gráfico de área\n",
        "plt.figure(figsize=(8, 5))\n",
        "plt.fill_between(tiendas, promedios_envio, color='lightcoral', alpha=0.6)\n",
        "plt.plot(tiendas, promedios_envio, color='darkred', marker='o')\n",
        "\n",
        "# Agregar los valores en los puntos\n",
        "for i, valor in enumerate(promedios_envio):\n",
        "    plt.text(tiendas[i], valor + 10, f\"${valor:,.0f}\", ha='center', va='bottom')\n",
        "\n",
        "# Títulos y etiquetas\n",
        "plt.title(\"🚚 Costo promedio de envío por tienda\")\n",
        "plt.ylabel(\"Costo en pesos\")\n",
        "plt.xlabel(\"Tienda\")\n",
        "plt.grid(axis='y', linestyle='--', alpha=0.3)\n",
        "plt.tight_layout()\n",
        "\n",
        "# Mostrar el gráfico\n",
        "plt.show()\n"
      ],
      "metadata": {
        "colab": {
          "base_uri": "https://localhost:8080/",
          "height": 580
        },
        "id": "zcxR4qadcWag",
        "outputId": "29ab8fde-2bad-4a74-88b4-7e01c1678299"
      },
      "execution_count": null,
      "outputs": [
        {
          "output_type": "stream",
          "name": "stderr",
          "text": [
            "<ipython-input-30-a292532a7622>:21: UserWarning: Glyph 128666 (\\N{DELIVERY TRUCK}) missing from font(s) DejaVu Sans.\n",
            "  plt.tight_layout()\n",
            "/usr/local/lib/python3.11/dist-packages/IPython/core/pylabtools.py:151: UserWarning: Glyph 128666 (\\N{DELIVERY TRUCK}) missing from font(s) DejaVu Sans.\n",
            "  fig.canvas.print_figure(bytes_io, **kw)\n"
          ]
        },
        {
          "output_type": "display_data",
          "data": {
            "text/plain": [
              "<Figure size 800x500 with 1 Axes>"
            ],
            "image/png": "[encoded data removed]"
          },
          "metadata": {}
        }
      ]
    },
    {
      "cell_type": "code",
      "source": [
        "import matplotlib.pyplot as plt\n",
        "\n",
        "# Calcular calificación promedio por tienda\n",
        "promedio_1 = tienda[\"Calificación\"].mean()\n",
        "promedio_2 = tienda2[\"Calificación\"].mean()\n",
        "promedio_3 = tienda3[\"Calificación\"].mean()\n",
        "promedio_4 = tienda4[\"Calificación\"].mean()\n",
        "\n",
        "# Datos para el gráfico\n",
        "calificaciones = [promedio_1, promedio_2, promedio_3, promedio_4]\n",
        "tiendas = ['Tienda 1', 'Tienda 2', 'Tienda 3', 'Tienda 4']\n",
        "colores = ['#ff9999','#66b3ff','#99ff99','#ffcc99']\n",
        "\n",
        "# Crear gráfico de pastel\n",
        "plt.figure(figsize=(7, 7))\n",
        "plt.pie(calificaciones,\n",
        "        labels=tiendas,\n",
        "        autopct='%1.1f%%',\n",
        "        startangle=140,\n",
        "        colors=colores,\n",
        "        explode=(0.05, 0.05, 0.05, 0.05))\n",
        "\n",
        "# Título\n",
        "plt.title(\"⭐ Distribución de calificaciones promedio por tienda\")\n",
        "plt.tight_layout()\n",
        "\n",
        "# Mostrar gráfico\n",
        "plt.show()\n"
      ],
      "metadata": {
        "colab": {
          "base_uri": "https://localhost:8080/",
          "height": 731
        },
        "id": "wr20B72ncZ5f",
        "outputId": "c4f66bad-73bd-4b3b-995c-f3413c685390"
      },
      "execution_count": null,
      "outputs": [
        {
          "output_type": "stream",
          "name": "stderr",
          "text": [
            "<ipython-input-34-f0042c223e24>:25: UserWarning: Glyph 11088 (\\N{WHITE MEDIUM STAR}) missing from font(s) DejaVu Sans.\n",
            "  plt.tight_layout()\n",
            "/usr/local/lib/python3.11/dist-packages/IPython/core/pylabtools.py:151: UserWarning: Glyph 11088 (\\N{WHITE MEDIUM STAR}) missing from font(s) DejaVu Sans.\n",
            "  fig.canvas.print_figure(bytes_io, **kw)\n"
          ]
        },
        {
          "output_type": "display_data",
          "data": {
            "text/plain": [
              "<Figure size 700x700 with 1 Axes>"
            ],
            "image/png": "[encoded data removed]"
          },
          "metadata": {}
        }
      ]
    },
    {
      "cell_type": "code",
      "source": [],
      "metadata": {
        "id": "iRj4FKtCg04a"
      },
      "execution_count": null,
      "outputs": []
    },
    {
      "cell_type": "markdown",
      "source": [
        "Informe final\n",
        "¿Qué tienda es menos eficiente?\n",
        "El propósito de este análisis es ayudar al Sr. Juan a decidir qué tienda es menos eficiente y porqué. Para tomar una decisión informada, se han analizado diferentes factores clave relacionados con el rendimiento de las cuatro tiendas: ingresos totales, categorías más vendidas, calificaciones promedio, productos destacados y el costo promedio de envío. Toda la información se obtuvo mediante análisis de datos usando Python y visualizaciones con matplotlib.\n",
        "\n",
        "Desarrollo del análisis\n",
        "\n",
        "1.  Ingresos totales por tienda\n",
        "•\tTienda 1: $1,150,880,400\n",
        "•\tTienda 2: $1,116,343,500\n",
        "•\tTienda 3: $1,098,019,600\n",
        "•\tTienda 4: $1,038,375,700\n",
        "La Tienda 4 presenta los menores ingresos, con más de $100 millones de diferencia respecto a la Tienda 1 y 2 que tienen mejor volumen o valor de ventas.\n",
        "\n",
        "2. Categorías de productos más y menos vendidas\n",
        "Tienda 1\n",
        "•\tMás vendido: Microondas (60)\n",
        "•\tMenos vendido: Auriculares con micrófono (33)\n",
        "Tienda 2\n",
        "•\tMás vendido: Iniciando en programación (65)\n",
        "•\tMenos vendido: Juego de mesa (32)\n",
        "Tienda 3\n",
        "•\tMás vendido: Kit de bancas (57)\n",
        "•\tMenos vendido: Bloques de construcción (35)\n",
        "Tienda 4\n",
        "•\tMás vendido: Cama box (62)\n",
        "•\tMenos vendido: Guitarra eléctrica (33)\n",
        "Todas las tiendas muestran un comportamiento relativamente equilibrado. Sin embargo, la Tienda 4 no destaca significativamente en sus productos más vendidos frente a otras.\n",
        "\n",
        "3.  Calificaciones promedio de clientes\n",
        "•\tTienda 1: 4.0\n",
        "•\tTienda 2: 4.0\n",
        "•\tTienda 3: 4.0\n",
        "•\tTienda 4: 4.0\n",
        "Las calificaciones son idénticas en todas las tiendas, lo que indica una experiencia  similar.\n",
        "\n",
        "4. Costo promedio de envío\n",
        "•\tTienda 1: $26.019\n",
        "•\tTienda 2: $25.216\n",
        "•\tTienda 3: $24.806\n",
        "•\tTienda 4: $23.459\n",
        "Tienda 4 posee el costo de envío promedio más bajo, lo que es una fortaleza, pero no suficiente para compensar sus bajos ingresos.\n",
        "\n",
        "Conclusión y recomendación\n",
        "\n",
        "Con base en los indicadores analizados, se recomienda vender la Tienda 4. A pesar de tener el costo de envío más bajo, presenta el ingreso total más bajo entre las cuatro tiendas y un desempeño inferior en volumen de ventas por categoría clave como \"Muebles\". Además, no presenta ventajas competitivas significativas en calificaciones de clientes ni en productos destacados. Por tanto, desinvertir en Tienda 4 permitiría enfocar recursos en las tiendas con mejor desempeño y potencial de crecimiento.\n",
        "\n"
      ],
      "metadata": {
        "id": "fDr6zO-krLD_"
      }
    }
  ]
}